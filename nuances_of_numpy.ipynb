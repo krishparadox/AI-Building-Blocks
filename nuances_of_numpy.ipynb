{
 "cells": [
  {
   "cell_type": "markdown",
   "metadata": {},
   "source": [
    "# Numpy"
   ]
  },
  {
   "cell_type": "code",
   "execution_count": 2,
   "metadata": {},
   "outputs": [],
   "source": [
    "%matplotlib inline\n",
    "import numpy as np\n",
    "import matplotlib.pyplot as plt"
   ]
  },
  {
   "cell_type": "markdown",
   "metadata": {},
   "source": [
    "## Creating np arrays"
   ]
  },
  {
   "cell_type": "code",
   "execution_count": 184,
   "metadata": {},
   "outputs": [
    {
     "name": "stdout",
     "output_type": "stream",
     "text": [
      "[1 2 3 4]\n",
      "[[1 2 3]\n",
      " [2 3 4]]\n",
      "[0. 0. 0. 0.]\n",
      "[1 1 1 1]\n",
      "[1. 1. 1. 1.]\n",
      "[1. 1. 1. 1.]\n",
      "[1 1 1 1]\n",
      "[0.74661965 0.25059878 0.55151232 0.79159672 0.66730194 0.12784456\n",
      " 0.54730818 0.07257409 0.49660877 0.37639908]\n",
      "[ 1.8272419  -0.62088067  0.95003512  0.32811577  0.79463459  1.22974792\n",
      "  0.19648898  2.15741382 -1.45988348 -0.3417173 ]\n",
      "[ 1.   1.9  2.8  3.7  4.6  5.5  6.4  7.3  8.2  9.1 10. ]\n",
      "[ 2  4  6  8 10]\n",
      "[[8 8]\n",
      " [8 8]]\n",
      "[[1. 0.]\n",
      " [0. 1.]]\n"
     ]
    }
   ],
   "source": [
    "#arrays from lists with values\n",
    "a1_0 = np.array([1,2,3,4])\n",
    "a1_1 = np.array([[1,2,3],[2,3,4]])\n",
    "print(a1_0)\n",
    "print(a1_1)\n",
    "\n",
    "#array of zeroes\n",
    "a2 = np.zeros(4)\n",
    "print(a2)\n",
    "\n",
    "#array of ones using default datatypes\n",
    "a3_0 = np.ones(4, dtype=np.int64) \n",
    "a3_1 = np.ones(4, dtype=np.float64)\n",
    "print(a3_0)\n",
    "print(a3_1)\n",
    "\n",
    "#32bit datatypes \n",
    "a3_2 = np.ones(4, dtype=np.float32)\n",
    "a3_3 = np.ones(4, dtype=np.int32)\n",
    "print(a3_2)\n",
    "print(a3_3)\n",
    "\n",
    "#arrays with random values\n",
    "a4 = np.random.rand(10)\n",
    "print(a4)\n",
    "\n",
    "#arrays with normalised values having mean=0 and SD=1\n",
    "a5 = np.random.randn(10)\n",
    "print(a5)\n",
    "\n",
    "#using linspace(x,y,z) where x is the starting point, y is the ending point, and z is the number values in the array. \n",
    "#So number of partitions = z-1\n",
    "a6 = np.linspace(1,10,11)\n",
    "#output: array([ 1. ,  1.9,  2.8,  3.7,  4.6,  5.5,  6.4,  7.3,  8.2,  9.1, 10. ])\n",
    "print(a6)\n",
    "\n",
    "#using np.arange(x,y,z) where x is the starting point, y is the ending point but exclusive(not in the output) and z is the common difference\n",
    "#np.arange(x) will return an array from 0 to x-1 with a common difference of 1\n",
    "a7 = np.arange(2,12,2)\n",
    "#output: array([ 2,  4,  6,  8, 10])\n",
    "print(a7)\n",
    "\n",
    "# Define a constant array\n",
    "a8 = np.full((2, 2), 8)                      \n",
    "print(a8)\n",
    "\n",
    "# Define a 2x2 identity matrix\n",
    "a9 = np.eye(2)                               \n",
    "print(a9)\n",
    "\n",
    "#test array for upcoming experiments\n",
    "x1 = np.arange(0, 10, 0.2)"
   ]
  },
  {
   "cell_type": "code",
   "execution_count": 181,
   "metadata": {},
   "outputs": [
    {
     "name": "stdout",
     "output_type": "stream",
     "text": [
      "[[2 4]\n",
      " [6 8]]\n",
      "[list([1, 2]) list([3, 4]) list([5, 6, 7])]\n",
      "[list([1, 2, 1, 2]) list([3, 4, 3, 4]) list([5, 6, 7, 5, 6, 7])]\n"
     ]
    },
    {
     "name": "stderr",
     "output_type": "stream",
     "text": [
      "<ipython-input-181-68a0a152ff65>:6: VisibleDeprecationWarning: Creating an ndarray from ragged nested sequences (which is a list-or-tuple of lists-or-tuples-or ndarrays with different lengths or shapes) is deprecated. If you meant to do this, you must specify 'dtype=object' when creating the ndarray.\n",
      "  b = np.array([[1, 2], [3, 4], [5, 6, 7]])\n"
     ]
    }
   ],
   "source": [
    "#malformed arrays\n",
    "a = np.array([[1, 2], [3, 4]]) # Define a 2x2 matrix\n",
    "# Print a scaled version of 'a', more on this in the section on \"scaling and translating arrays\" below\n",
    "print(a * 2)\n",
    "# Define a malformed matrix. Note the third row contains 3 elements, while other rows contain 2 elements\n",
    "b = np.array([[1, 2], [3, 4], [5, 6, 7]])\n",
    "# Print the malformed matrix\n",
    "print(b)                       # Prints [list([1, 2]) list([3, 4]) list([5, 6, 7])]\n",
    "# Supposed to scale the whole matrix but does *not*\n",
    "print(b * 2)                   # Prints [list([1, 2, 1, 2]) list([3, 4, 3, 4]) list([5, 6, 7, 5, 6, 7])]"
   ]
  },
  {
   "cell_type": "code",
   "execution_count": 180,
   "metadata": {},
   "outputs": [
    {
     "name": "stdout",
     "output_type": "stream",
     "text": [
      "[1, 2, 3]\n",
      "[1 2 3]\n",
      "<class 'list'>\n",
      "<class 'numpy.ndarray'>\n"
     ]
    }
   ],
   "source": [
    "#difference between a numpy array and a python list\n",
    "l = [1, 2, 3]           # Define a python list\n",
    "a = np.array([1, 2, 3]) # Define a numpy array by passing in a list\n",
    "print(l)                # Prints [1 2 3]\n",
    "print(a)                # Prints [1 2 3]\n",
    "print(type(l))          # Prints <class 'list'>\n",
    "print(type(a))          # Prints <class 'numpy.ndarray'>"
   ]
  },
  {
   "cell_type": "markdown",
   "metadata": {},
   "source": [
    "## Array Operations"
   ]
  },
  {
   "cell_type": "markdown",
   "metadata": {},
   "source": [
    "### Getting basic array information"
   ]
  },
  {
   "cell_type": "markdown",
   "metadata": {},
   "source": [
    "#### 1. Shape of the array"
   ]
  },
  {
   "cell_type": "markdown",
   "metadata": {},
   "source": [
    "The shape of an array is a tuple of integers giving the size of the array along each dimension"
   ]
  },
  {
   "cell_type": "code",
   "execution_count": 176,
   "metadata": {},
   "outputs": [
    {
     "name": "stdout",
     "output_type": "stream",
     "text": [
      "(50,)\n",
      "(1, 3)\n",
      "(2, 3)\n"
     ]
    }
   ],
   "source": [
    "print(x1.shape)\n",
    "b = np.array([[1, 2, 3]])            # Define a rank 2 array (vector) using a nested list\n",
    "print(b.shape)\n",
    "c = np.array([[1, 2, 3], [4, 5, 6]])\n",
    "print(c.shape)"
   ]
  },
  {
   "cell_type": "code",
   "execution_count": 188,
   "metadata": {},
   "outputs": [
    {
     "data": {
      "text/plain": [
       "array([0, 1, 2])"
      ]
     },
     "execution_count": 188,
     "metadata": {},
     "output_type": "execute_result"
    }
   ],
   "source": [
    "x"
   ]
  },
  {
   "cell_type": "markdown",
   "metadata": {},
   "source": [
    "#### 2. Rank of an array"
   ]
  },
  {
   "cell_type": "markdown",
   "metadata": {},
   "source": [
    "The rank of an array is the number of dimensions it contains equivalent to `len(a.shape)`"
   ]
  },
  {
   "cell_type": "code",
   "execution_count": 179,
   "metadata": {},
   "outputs": [
    {
     "name": "stdout",
     "output_type": "stream",
     "text": [
      "1\n",
      "2\n",
      "2\n",
      "1\n",
      "2\n"
     ]
    }
   ],
   "source": [
    "d = np.array((1, 2, 3)) #rank 1 array using a tuple\n",
    "e = np.array(((1, 2, 3), (4, 5, 6))) #rank 2 array using a tuple\n",
    "print(x1.ndim)\n",
    "print(b.ndim)\n",
    "print(c.ndim)\n",
    "print(d.ndim)\n",
    "print(e.ndim)"
   ]
  },
  {
   "cell_type": "markdown",
   "metadata": {},
   "source": [
    "#### 3. The size of an array"
   ]
  },
  {
   "cell_type": "markdown",
   "metadata": {},
   "source": [
    "The size of an array is the number of elements it contains (which is equivalent to `np.prod(<ndarray>.shape)`, i.e., the product of the array’s dimensions)."
   ]
  },
  {
   "cell_type": "code",
   "execution_count": 177,
   "metadata": {},
   "outputs": [
    {
     "name": "stdout",
     "output_type": "stream",
     "text": [
      "50\n",
      "3\n",
      "6\n"
     ]
    }
   ],
   "source": [
    "print(x1.size)\n",
    "print(b.size)\n",
    "print(c.size)"
   ]
  },
  {
   "cell_type": "code",
   "execution_count": 4,
   "metadata": {},
   "outputs": [],
   "source": [
    "#scalar multiplication of all array elements\n",
    "a7_m = a7*2\n",
    "#output: array([ 4, 10, 16, 22])"
   ]
  },
  {
   "cell_type": "code",
   "execution_count": 5,
   "metadata": {},
   "outputs": [],
   "source": [
    "#creating boolean mask array\n",
    "a7_mask = 2*a7>11\n",
    "#output: array([False, False,  True,  True])"
   ]
  },
  {
   "cell_type": "code",
   "execution_count": 6,
   "metadata": {},
   "outputs": [],
   "source": [
    "#inverse array elements\n",
    "a7_inverse = 1/a7 + a7\n",
    "#output: array([ 2.5       ,  5.2       ,  8.125     , 11.09090909])"
   ]
  },
  {
   "cell_type": "code",
   "execution_count": 7,
   "metadata": {},
   "outputs": [
    {
     "data": {
      "image/png": "[encoded data removed]",
      "text/plain": [
       "<Figure size 432x288 with 1 Axes>"
      ]
     },
     "metadata": {
      "needs_background": "light"
     },
     "output_type": "display_data"
    }
   ],
   "source": [
    "#line plot of functions\n",
    "plt.plot(x1, x1**3)\n",
    "plt.show()"
   ]
  },
  {
   "cell_type": "code",
   "execution_count": 8,
   "metadata": {},
   "outputs": [
    {
     "data": {
      "text/plain": [
       "(array([1., 0., 0., 0., 0., 2., 3., 1., 1., 2.]),\n",
       " array([-1.99770127, -1.67452922, -1.35135718, -1.02818514, -0.7050131 ,\n",
       "        -0.38184105, -0.05866901,  0.26450303,  0.58767507,  0.91084712,\n",
       "         1.23401916]),\n",
       " <BarContainer object of 10 artists>)"
      ]
     },
     "execution_count": 8,
     "metadata": {},
     "output_type": "execute_result"
    },
    {
     "data": {
      "image/png": "[encoded data removed]",
      "text/plain": [
       "<Figure size 432x288 with 1 Axes>"
      ]
     },
     "metadata": {
      "needs_background": "light"
     },
     "output_type": "display_data"
    }
   ],
   "source": [
    "#histogram plot\n",
    "plt.hist(a5)"
   ]
  },
  {
   "cell_type": "code",
   "execution_count": 9,
   "metadata": {},
   "outputs": [
    {
     "data": {
      "text/plain": [
       "[<matplotlib.lines.Line2D at 0x7f9ff4811040>]"
      ]
     },
     "execution_count": 9,
     "metadata": {},
     "output_type": "execute_result"
    },
    {
     "data": {
      "image/png": "[encoded data removed]",
      "text/plain": [
       "<Figure size 432x288 with 1 Axes>"
      ]
     },
     "metadata": {
      "needs_background": "light"
     },
     "output_type": "display_data"
    }
   ],
   "source": [
    "#define a function and plot\n",
    "def f(x):\n",
    "    return x**2 + np.sin(x)/np.exp(-x)\n",
    "plt.plot(x1, f(x1))"
   ]
  },
  {
   "cell_type": "markdown",
   "metadata": {},
   "source": [
    "**For all mathematical functions provided by numpy please refer to** https://numpy.org/doc/stable/reference/routines.math.html"
   ]
  },
  {
   "cell_type": "markdown",
   "metadata": {},
   "source": [
    "## Array indexing and slicing"
   ]
  },
  {
   "cell_type": "code",
   "execution_count": 10,
   "metadata": {},
   "outputs": [],
   "source": [
    "#Let's create a sample array for demonstration purposes\n",
    "x1 = np.array([2,4,6,8,10,12])"
   ]
  },
  {
   "cell_type": "code",
   "execution_count": 11,
   "metadata": {},
   "outputs": [
    {
     "data": {
      "text/plain": [
       "6"
      ]
     },
     "execution_count": 11,
     "metadata": {},
     "output_type": "execute_result"
    }
   ],
   "source": [
    "#single value indexing\n",
    "x1[2] #select the second element\n",
    "#output: 6"
   ]
  },
  {
   "cell_type": "code",
   "execution_count": 12,
   "metadata": {},
   "outputs": [
    {
     "data": {
      "text/plain": [
       "array([ 6,  8, 10, 12])"
      ]
     },
     "execution_count": 12,
     "metadata": {},
     "output_type": "execute_result"
    }
   ],
   "source": [
    "#row slicing in arrays by providing a range\n",
    "x1[2:] #select all the elements starting from the 3rd element(3rd because indexing starts from 0)\n",
    "#output: array([ 6,  8, 10, 12])"
   ]
  },
  {
   "cell_type": "code",
   "execution_count": 13,
   "metadata": {},
   "outputs": [
    {
     "data": {
      "text/plain": [
       "array([2, 4, 6, 8])"
      ]
     },
     "execution_count": 13,
     "metadata": {},
     "output_type": "execute_result"
    }
   ],
   "source": [
    "#row slicing from array ending\n",
    "x1[:-2] #select all elements from the beginning till the second last element excluding the second last element\n",
    "#output: array([2, 4, 6, 8])"
   ]
  },
  {
   "cell_type": "code",
   "execution_count": 14,
   "metadata": {},
   "outputs": [
    {
     "data": {
      "text/plain": [
       "array([ 2,  6, 10])"
      ]
     },
     "execution_count": 14,
     "metadata": {},
     "output_type": "execute_result"
    }
   ],
   "source": [
    "#select elements with a jump\n",
    "x1[::2] #select elements in the np.array starting from the first element with a jump of 2\n",
    "#output: array([ 2,  6, 10])"
   ]
  },
  {
   "cell_type": "code",
   "execution_count": 15,
   "metadata": {},
   "outputs": [],
   "source": [
    "#create the boolean mask of an array and select elements using boolean masking\n",
    "mask = (x1>4)\n",
    "#output: array([False, False,  True,  True,  True,  True])"
   ]
  },
  {
   "cell_type": "code",
   "execution_count": 16,
   "metadata": {},
   "outputs": [
    {
     "data": {
      "text/plain": [
       "array([ 6,  8, 10, 12])"
      ]
     },
     "execution_count": 16,
     "metadata": {},
     "output_type": "execute_result"
    }
   ],
   "source": [
    "x1[mask] #select every element in x1 corresponding to true in the mask\n",
    "#output: array([ 6,  8, 10, 12])"
   ]
  },
  {
   "cell_type": "code",
   "execution_count": 17,
   "metadata": {},
   "outputs": [
    {
     "data": {
      "text/plain": [
       "array([0.8, 1.6, 2.4, 3.2, 4. , 4.8])"
      ]
     },
     "execution_count": 17,
     "metadata": {},
     "output_type": "execute_result"
    }
   ],
   "source": [
    "# always use vectorization in numpy instead of for loops. This increase the speed of computation exponentially\n",
    "np.vectorize(lambda x: x*2/5)(x1)\n",
    "#output: array([0.8, 1.6, 2.4, 3.2, 4. , 4.8])"
   ]
  },
  {
   "cell_type": "code",
   "execution_count": 18,
   "metadata": {},
   "outputs": [
    {
     "data": {
      "text/plain": [
       "array(['Aarav', 'Anish', 'Ankit'], dtype='<U7')"
      ]
     },
     "execution_count": 18,
     "metadata": {},
     "output_type": "execute_result"
    }
   ],
   "source": [
    "#Let us look at an application of vectorization in a more concrete use-case\n",
    "#The aim is to filter all the elements in the array with start with 'A'. \n",
    "#It can be done without numpy using loops but we'll use numpy to speed up the process\n",
    "names = np.array([\"Aarav\", \"Anish\", \"Jayesh\", \"Ankit\", \"Deep\", \"Zain\", \"Mandeep\", \"Shubham\"])\n",
    "first_letter_a = np.vectorize(lambda x: x[0])(names) == \"A\"\n",
    "#first_letter_a: array([ True,  True, False,  True, False, False, False, False]) is a boolean mask\n",
    "names[first_letter_a]\n",
    "#output: array(['Aarav', 'Anish', 'Ankit'], dtype='<U7')"
   ]
  },
  {
   "cell_type": "markdown",
   "metadata": {},
   "source": [
    "## Statistical Functions"
   ]
  },
  {
   "cell_type": "code",
   "execution_count": 19,
   "metadata": {},
   "outputs": [],
   "source": [
    "#let's create a test dataset for our upcoming implementations\n",
    "x1 = 2*np.random.randn(1000) +10"
   ]
  },
  {
   "cell_type": "code",
   "execution_count": 20,
   "metadata": {},
   "outputs": [
    {
     "data": {
      "text/plain": [
       "10.08293102992936"
      ]
     },
     "execution_count": 20,
     "metadata": {},
     "output_type": "execute_result"
    }
   ],
   "source": [
    "#find the mean of the array\n",
    "np.mean(x1)\n",
    "#output: 10.04354623316505"
   ]
  },
  {
   "cell_type": "code",
   "execution_count": 21,
   "metadata": {},
   "outputs": [
    {
     "data": {
      "text/plain": [
       "1.9595955413741224"
      ]
     },
     "execution_count": 21,
     "metadata": {},
     "output_type": "execute_result"
    }
   ],
   "source": [
    "#find the standard deviation of the array\n",
    "np.std(x1)\n",
    "#output: 2.028621423144305"
   ]
  },
  {
   "cell_type": "code",
   "execution_count": 22,
   "metadata": {},
   "outputs": [],
   "source": [
    "#find the percentile\n",
    "ans = np.percentile(x1, 80) #this means ans is greater than 80% of the elements in x1\n",
    "#output: 11.72972492791864"
   ]
  },
  {
   "cell_type": "markdown",
   "metadata": {},
   "source": [
    "## Calculus Functions"
   ]
  },
  {
   "cell_type": "code",
   "execution_count": 23,
   "metadata": {},
   "outputs": [],
   "source": [
    "x1 = np.linspace(1,10,100)\n",
    "#function to consider\n",
    "y1 = 1/x1**2 *np.sin(x1)\n",
    "#numerical gradient\n",
    "dydx = np.gradient(y1,x1)\n",
    "#numerical integral\n",
    "y_integral = np.cumsum(y1) * (x1[1]-x1[0])"
   ]
  },
  {
   "cell_type": "code",
   "execution_count": 24,
   "metadata": {},
   "outputs": [
    {
     "data": {
      "text/plain": [
       "[<matplotlib.lines.Line2D at 0x7f9ff4900e20>]"
      ]
     },
     "execution_count": 24,
     "metadata": {},
     "output_type": "execute_result"
    },
    {
     "data": {
      "image/png": "[encoded data removed]",
      "text/plain": [
       "<Figure size 432x288 with 1 Axes>"
      ]
     },
     "metadata": {
      "needs_background": "light"
     },
     "output_type": "display_data"
    }
   ],
   "source": [
    "plt.plot(x1,y1)\n",
    "plt.plot(x1, dydx)\n",
    "plt.plot(x1, y_integral)"
   ]
  },
  {
   "cell_type": "markdown",
   "metadata": {},
   "source": [
    "### Let us consider some examples to develop a deeper understanding of what we learnt"
   ]
  },
  {
   "cell_type": "markdown",
   "metadata": {},
   "source": [
    "1. Let $y = e^{-\\frac{x}{10}}sin(x)$. Consider $10000 x$ intervals in the range $[0,10]$"
   ]
  },
  {
   "cell_type": "markdown",
   "metadata": {},
   "source": [
    "a. Plot the function $(y,x)$ in the range$[0,10]$"
   ]
  },
  {
   "cell_type": "code",
   "execution_count": 25,
   "metadata": {},
   "outputs": [
    {
     "data": {
      "text/plain": [
       "[<matplotlib.lines.Line2D at 0x7f9ff4994c10>]"
      ]
     },
     "execution_count": 25,
     "metadata": {},
     "output_type": "execute_result"
    },
    {
     "data": {
      "image/png": "[encoded data removed]",
      "text/plain": [
       "<Figure size 432x288 with 1 Axes>"
      ]
     },
     "metadata": {
      "needs_background": "light"
     },
     "output_type": "display_data"
    }
   ],
   "source": [
    "#Since the number of intervals is 10000, the number of elements in the array has to be 10000+1 to generate 10000 intervals\n",
    "N=10000\n",
    "x = np.linspace(0,10,N+1)\n",
    "def f(x):\n",
    "    return np.exp(-x/10)*np.sin(x)\n",
    "y = f(x)\n",
    "plt.plot(x,y)"
   ]
  },
  {
   "cell_type": "markdown",
   "metadata": {},
   "source": [
    "b. Compute the mean and std deviation of $y$ for $x$ values in the range $[4,7]$"
   ]
  },
  {
   "cell_type": "code",
   "execution_count": 26,
   "metadata": {},
   "outputs": [
    {
     "data": {
      "text/plain": [
       "0.31448753875085117"
      ]
     },
     "execution_count": 26,
     "metadata": {},
     "output_type": "execute_result"
    }
   ],
   "source": [
    "#We need to create a mask using the x array and boolean mask the y array\n",
    "mask = (x>=4)*(x<=7)\n",
    "np.mean(y[mask])\n",
    "#output: -0.2956023068963138\n",
    "np.std(y[mask])\n",
    "#output: 0.31448753875085117"
   ]
  },
  {
   "cell_type": "markdown",
   "metadata": {},
   "source": [
    "c. For $x$ in the range $[4,7]$, find the value $y_m$ such that 80% of $y$ values are less than $y_m$\n"
   ]
  },
  {
   "cell_type": "code",
   "execution_count": 27,
   "metadata": {},
   "outputs": [
    {
     "data": {
      "text/plain": [
       "0.06145551274590662"
      ]
     },
     "execution_count": 27,
     "metadata": {},
     "output_type": "execute_result"
    }
   ],
   "source": [
    "#this fits exactly the definition of percentile\n",
    "np.percentile(y[mask],80)\n",
    "#output: 0.06145551274590662"
   ]
  },
  {
   "cell_type": "markdown",
   "metadata": {},
   "source": [
    "d. Plot $\\frac{dy}{dx}$ vs $x$"
   ]
  },
  {
   "cell_type": "code",
   "execution_count": 28,
   "metadata": {},
   "outputs": [
    {
     "data": {
      "text/plain": [
       "[<matplotlib.lines.Line2D at 0x7f9ff4b399a0>]"
      ]
     },
     "execution_count": 28,
     "metadata": {},
     "output_type": "execute_result"
    },
    {
     "data": {
      "image/png": "[encoded data removed]",
      "text/plain": [
       "<Figure size 432x288 with 1 Axes>"
      ]
     },
     "metadata": {
      "needs_background": "light"
     },
     "output_type": "display_data"
    }
   ],
   "source": [
    "plt.plot(x,np.gradient(y,x))"
   ]
  },
  {
   "cell_type": "markdown",
   "metadata": {},
   "source": [
    "e. Find the locations where $dy/dx=0$"
   ]
  },
  {
   "cell_type": "code",
   "execution_count": 29,
   "metadata": {},
   "outputs": [
    {
     "ename": "IndexError",
     "evalue": "boolean index did not match indexed array along dimension 0; dimension is 10000 but corresponding boolean dimension is 99",
     "output_type": "error",
     "traceback": [
      "\u001b[0;31m---------------------------------------------------------------------------\u001b[0m",
      "\u001b[0;31mIndexError\u001b[0m                                Traceback (most recent call last)",
      "\u001b[0;32m<ipython-input-29-4572f21805e9>\u001b[0m in \u001b[0;36m<module>\u001b[0;34m\u001b[0m\n\u001b[1;32m      1\u001b[0m \u001b[0;31m#When dy/dx = 0 there is a change in sign. Hence the product of the two consecutive x's will be negative\u001b[0m\u001b[0;34m\u001b[0m\u001b[0;34m\u001b[0m\u001b[0;34m\u001b[0m\u001b[0m\n\u001b[0;32m----> 2\u001b[0;31m \u001b[0mx\u001b[0m\u001b[0;34m[\u001b[0m\u001b[0;36m1\u001b[0m\u001b[0;34m:\u001b[0m\u001b[0;34m]\u001b[0m\u001b[0;34m[\u001b[0m\u001b[0mdydx\u001b[0m\u001b[0;34m[\u001b[0m\u001b[0;36m1\u001b[0m\u001b[0;34m:\u001b[0m\u001b[0;34m]\u001b[0m\u001b[0;34m*\u001b[0m\u001b[0mdydx\u001b[0m\u001b[0;34m[\u001b[0m\u001b[0;34m:\u001b[0m\u001b[0;34m-\u001b[0m\u001b[0;36m1\u001b[0m\u001b[0;34m]\u001b[0m\u001b[0;34m<\u001b[0m\u001b[0;36m0\u001b[0m\u001b[0;34m]\u001b[0m\u001b[0;34m\u001b[0m\u001b[0;34m\u001b[0m\u001b[0m\n\u001b[0m\u001b[1;32m      3\u001b[0m \u001b[0;31m#output: array([1.472, 4.613, 7.755])\u001b[0m\u001b[0;34m\u001b[0m\u001b[0;34m\u001b[0m\u001b[0;34m\u001b[0m\u001b[0m\n",
      "\u001b[0;31mIndexError\u001b[0m: boolean index did not match indexed array along dimension 0; dimension is 10000 but corresponding boolean dimension is 99"
     ]
    }
   ],
   "source": [
    "#When dy/dx = 0 there is a change in sign. Hence the product of the two consecutive x's will be negative\n",
    "x[1:][dydx[1:]*dydx[:-1]<0]\n",
    "#output: array([1.472, 4.613, 7.755])"
   ]
  },
  {
   "cell_type": "markdown",
   "metadata": {},
   "source": [
    "2. Sum together every number from 0 to 10000 except for those than can be divided by 4 or 7."
   ]
  },
  {
   "cell_type": "code",
   "execution_count": 30,
   "metadata": {},
   "outputs": [
    {
     "data": {
      "text/plain": [
       "32147142"
      ]
     },
     "execution_count": 30,
     "metadata": {},
     "output_type": "execute_result"
    }
   ],
   "source": [
    "x = np.arange(0,10001,1)\n",
    "x[(x%4!=0)*(x%7!=0)].sum()\n",
    "#output: 32147142"
   ]
  },
  {
   "cell_type": "markdown",
   "metadata": {},
   "source": [
    "#### 3. Consider the flower petal equation \n",
    "$ r(\\theta) = 1 + \\frac{3}{4}sin(3\\theta)$ for $0\\leq\\theta\\leq2\\pi$"
   ]
  },
  {
   "cell_type": "markdown",
   "metadata": {},
   "source": [
    "#### a. Make a plot of the flower"
   ]
  },
  {
   "cell_type": "code",
   "execution_count": 32,
   "metadata": {},
   "outputs": [
    {
     "data": {
      "text/plain": [
       "[<matplotlib.lines.Line2D at 0x7f9ff4e58970>]"
      ]
     },
     "execution_count": 32,
     "metadata": {},
     "output_type": "execute_result"
    },
    {
     "data": {
      "image/png": "[encoded data removed]",
      "text/plain": [
       "<Figure size 432x288 with 1 Axes>"
      ]
     },
     "metadata": {
      "needs_background": "light"
     },
     "output_type": "display_data"
    }
   ],
   "source": [
    "#The equation is in polar coordinate system. We have to convert them to their corresponding cartesian coordinates \n",
    "theta = np.linspace(0,2*np.pi, 10000)\n",
    "r = 1 + (3/4)*np.sin(4*theta)\n",
    "x = r*np.cos(theta)\n",
    "y = r*np.sin(theta)\n",
    "plt.plot(x,y)\n",
    "#fun fact: In any equation 1 + (a/b)*np.sin(n*theta), n will be the number of petals. \n",
    "#If a/b>1, another flower will start forming from the center point. The petals are disjoint when a/b=1"
   ]
  },
  {
   "cell_type": "markdown",
   "metadata": {},
   "source": [
    "#### b. Calculate the area using the formula \n",
    "$A = \\int_{\\theta=0}^{\\theta=2\\pi}\\frac{1}{2}r^2d\\theta$"
   ]
  },
  {
   "cell_type": "code",
   "execution_count": 35,
   "metadata": {},
   "outputs": [
    {
     "data": {
      "text/plain": [
       "4.025479778096338"
      ]
     },
     "execution_count": 35,
     "metadata": {},
     "output_type": "execute_result"
    }
   ],
   "source": [
    "A = 1/2 * sum(r**2) * theta[1]-theta[0]\n",
    "A"
   ]
  },
  {
   "cell_type": "markdown",
   "metadata": {},
   "source": [
    "#### c. Compute the arclength using the formula \n",
    "$ L = \\int_0^{2\\pi} \\sqrt{r^2 + \\left(\\frac{dr}{d\\theta}\\right)^2}d\\theta $"
   ]
  },
  {
   "cell_type": "code",
   "execution_count": 36,
   "metadata": {},
   "outputs": [
    {
     "data": {
      "text/plain": [
       "14.244601275910508"
      ]
     },
     "execution_count": 36,
     "metadata": {},
     "output_type": "execute_result"
    }
   ],
   "source": [
    "L = sum(np.sqrt(r**2 + np.gradient(r, theta)**2)) * (theta[1]-theta[0])\n",
    "L"
   ]
  },
  {
   "cell_type": "markdown",
   "metadata": {},
   "source": [
    "#### 4. The following equation represents the power emitted by a blackbody \n",
    "$ P = A\\sigma\\epsilon T^4 $.\n",
    "#### Temperature of a star can be represented a function of time \n",
    "$ T(t) = T_0\\frac{1}{1+e^{-kt}}$\n",
    "#### Plot the total energy emitted by the star as a function of time given that\n",
    "$ E(t) = \\int_{t'=0}^{t'=t}P(t')dt'$"
   ]
  },
  {
   "cell_type": "code",
   "execution_count": 37,
   "metadata": {},
   "outputs": [
    {
     "data": {
      "image/png": "[encoded data removed]",
      "text/plain": [
       "<Figure size 432x288 with 1 Axes>"
      ]
     },
     "metadata": {
      "needs_background": "light"
     },
     "output_type": "display_data"
    }
   ],
   "source": [
    "kt = np.linspace(0, 3, 100)\n",
    "P = (1/(1+np.exp(-kt)))**4\n",
    "E = np.cumsum(P) * (kt[1]-kt[0])\n",
    "plt.plot(kt,E)\n",
    "plt.xlabel('$kt$', fontsize=20)\n",
    "plt.ylabel(r'$\\left(\\frac{k}{A \\sigma \\epsilon T_0^4}\\right) E(kt)$', fontsize=20)\n",
    "plt.show()"
   ]
  },
  {
   "cell_type": "markdown",
   "metadata": {},
   "source": [
    "## Multi-dimensional Array"
   ]
  },
  {
   "cell_type": "markdown",
   "metadata": {},
   "source": [
    "### Array creation and basic operations"
   ]
  },
  {
   "cell_type": "code",
   "execution_count": 44,
   "metadata": {},
   "outputs": [],
   "source": [
    "#Create and array\n",
    "a1 = np.array([[4,3,6],[6,3,8],[5,0,1]])\n",
    "# array([[4, 3, 6],\n",
    "#        [6, 3, 8],\n",
    "#        [5, 0, 1]])\n",
    "a2 = np.random.randn(3,3)"
   ]
  },
  {
   "cell_type": "markdown",
   "metadata": {},
   "source": [
    "#### Operations are similar to 1D arrays\n",
    "Raising entire array to a given power"
   ]
  },
  {
   "cell_type": "code",
   "execution_count": 40,
   "metadata": {},
   "outputs": [
    {
     "data": {
      "text/plain": [
       "array([[16,  9, 36],\n",
       "       [36,  9, 64],\n",
       "       [25,  0,  1]])"
      ]
     },
     "execution_count": 40,
     "metadata": {},
     "output_type": "execute_result"
    }
   ],
   "source": [
    "a1**2"
   ]
  },
  {
   "cell_type": "markdown",
   "metadata": {},
   "source": [
    "Dividing a scalar by the array"
   ]
  },
  {
   "cell_type": "code",
   "execution_count": 41,
   "metadata": {},
   "outputs": [
    {
     "name": "stderr",
     "output_type": "stream",
     "text": [
      "<ipython-input-41-4adb952e82b1>:1: RuntimeWarning: divide by zero encountered in true_divide\n",
      "  2/a1\n"
     ]
    },
    {
     "data": {
      "text/plain": [
       "array([[0.5       , 0.66666667, 0.33333333],\n",
       "       [0.33333333, 0.66666667, 0.25      ],\n",
       "       [0.4       ,        inf, 2.        ]])"
      ]
     },
     "execution_count": 41,
     "metadata": {},
     "output_type": "execute_result"
    }
   ],
   "source": [
    "2/a1 #division by zero returns inf and a warning"
   ]
  },
  {
   "cell_type": "markdown",
   "metadata": {},
   "source": [
    "Boolean indexing works the same and so does the creation of a boolean mask"
   ]
  },
  {
   "cell_type": "code",
   "execution_count": 46,
   "metadata": {},
   "outputs": [
    {
     "data": {
      "text/plain": [
       "array([[False, False,  True],\n",
       "       [ True, False,  True],\n",
       "       [ True, False, False]])"
      ]
     },
     "execution_count": 46,
     "metadata": {},
     "output_type": "execute_result"
    }
   ],
   "source": [
    "a1>4"
   ]
  },
  {
   "cell_type": "code",
   "execution_count": 47,
   "metadata": {},
   "outputs": [
    {
     "data": {
      "text/plain": [
       "array([0.14118077, 0.25091306, 1.5086862 , 0.60722034])"
      ]
     },
     "execution_count": 47,
     "metadata": {},
     "output_type": "execute_result"
    }
   ],
   "source": [
    "a2[a1>4]"
   ]
  },
  {
   "cell_type": "markdown",
   "metadata": {},
   "source": [
    "Element indexing "
   ]
  },
  {
   "cell_type": "code",
   "execution_count": 52,
   "metadata": {},
   "outputs": [
    {
     "data": {
      "text/plain": [
       "array([4, 3, 6])"
      ]
     },
     "execution_count": 52,
     "metadata": {},
     "output_type": "execute_result"
    }
   ],
   "source": [
    "a1[0]#returns the first element which is a 1d array/in our case"
   ]
  },
  {
   "cell_type": "code",
   "execution_count": 50,
   "metadata": {},
   "outputs": [
    {
     "data": {
      "text/plain": [
       "array([3, 3, 0])"
      ]
     },
     "execution_count": 50,
     "metadata": {},
     "output_type": "execute_result"
    }
   ],
   "source": [
    "a1[:, 1] # returns the second( because index starts from zero) column of all rows"
   ]
  },
  {
   "cell_type": "code",
   "execution_count": 53,
   "metadata": {},
   "outputs": [
    {
     "data": {
      "text/plain": [
       "array([3, 0])"
      ]
     },
     "execution_count": 53,
     "metadata": {},
     "output_type": "execute_result"
    }
   ],
   "source": [
    "a1[1:][:,1] # select all but the first row the matrix and then the second column of all the rows in the selected matrix"
   ]
  },
  {
   "cell_type": "markdown",
   "metadata": {},
   "source": [
    "### Resizing arrays"
   ]
  },
  {
   "cell_type": "markdown",
   "metadata": {},
   "source": [
    "Turning any n-dimensional array to a 1d array using `ravel()` method"
   ]
  },
  {
   "cell_type": "code",
   "execution_count": 42,
   "metadata": {},
   "outputs": [
    {
     "data": {
      "text/plain": [
       "array([4, 3, 6, 6, 3, 8, 5, 0, 1])"
      ]
     },
     "execution_count": 42,
     "metadata": {},
     "output_type": "execute_result"
    }
   ],
   "source": [
    "a1.ravel()"
   ]
  },
  {
   "cell_type": "code",
   "execution_count": 69,
   "metadata": {},
   "outputs": [
    {
     "data": {
      "text/plain": [
       "array([[4, 3, 6, 6, 3, 8],\n",
       "       [5, 0, 1, 4, 3, 6],\n",
       "       [6, 3, 8, 5, 0, 1],\n",
       "       [4, 3, 6, 6, 3, 8],\n",
       "       [5, 0, 1, 4, 3, 6],\n",
       "       [6, 3, 8, 5, 0, 1]])"
      ]
     },
     "execution_count": 69,
     "metadata": {},
     "output_type": "execute_result"
    }
   ],
   "source": [
    "#the resize function ravels the array and arranges the elements one by one in the specified size looping over to the front upon hitting the end of the unraveled array\n",
    "b1 = np.resize(a1,(1,13))\n",
    "# array([[4, 3, 6, 6, 3, 8, 5, 0, 1, 4, 3, 6, 6]])\n",
    "b2 = np.resize(a1,(6,6))\n",
    "b2"
   ]
  },
  {
   "cell_type": "code",
   "execution_count": 70,
   "metadata": {},
   "outputs": [
    {
     "data": {
      "text/plain": [
       "array([[6, 3, 8],\n",
       "       [5, 0, 1],\n",
       "       [4, 3, 6]])"
      ]
     },
     "execution_count": 70,
     "metadata": {},
     "output_type": "execute_result"
    }
   ],
   "source": [
    "b2[0:5:2][:,3:] #select row number 0 to row number 5 skipping every 2-1 row after the selected row. Select all the rows and all columns after the third column"
   ]
  },
  {
   "cell_type": "code",
   "execution_count": 78,
   "metadata": {},
   "outputs": [
    {
     "data": {
      "text/plain": [
       "array([[6, 3, 8],\n",
       "       [6, 3, 8]])"
      ]
     },
     "execution_count": 78,
     "metadata": {},
     "output_type": "execute_result"
    }
   ],
   "source": [
    "b2[0:5:3][:,3:]#select row number 0 to row number 5 skipping every 3-1 row after the selected row. Select all the rows and all columns after the third column"
   ]
  },
  {
   "cell_type": "markdown",
   "metadata": {},
   "source": [
    "### Applying functions to 2D arrays"
   ]
  },
  {
   "cell_type": "code",
   "execution_count": 86,
   "metadata": {},
   "outputs": [],
   "source": [
    "x = np.linspace(0,10,1000)\n",
    "y = np.linspace(0,5,500)"
   ]
  },
  {
   "cell_type": "code",
   "execution_count": 94,
   "metadata": {},
   "outputs": [
    {
     "ename": "ValueError",
     "evalue": "operands could not be broadcast together with shapes (1000,) (500,) ",
     "output_type": "error",
     "traceback": [
      "\u001b[0;31m---------------------------------------------------------------------------\u001b[0m",
      "\u001b[0;31mValueError\u001b[0m                                Traceback (most recent call last)",
      "\u001b[0;32m<ipython-input-94-8e7d9e7adaab>\u001b[0m in \u001b[0;36m<module>\u001b[0;34m\u001b[0m\n\u001b[0;32m----> 1\u001b[0;31m \u001b[0mz\u001b[0m \u001b[0;34m=\u001b[0m \u001b[0mx\u001b[0m\u001b[0;34m**\u001b[0m\u001b[0;36m2\u001b[0m\u001b[0;34m+\u001b[0m\u001b[0my\u001b[0m\u001b[0;34m**\u001b[0m\u001b[0;36m2\u001b[0m\u001b[0;34m\u001b[0m\u001b[0;34m\u001b[0m\u001b[0m\n\u001b[0m",
      "\u001b[0;31mValueError\u001b[0m: operands could not be broadcast together with shapes (1000,) (500,) "
     ]
    }
   ],
   "source": [
    "z = x**2+y**2"
   ]
  },
  {
   "cell_type": "markdown",
   "metadata": {},
   "source": [
    "We were unable to execute the above function due to the difference in shapes of the two operands. They are broadcast using the meshgrid function.\n",
    "$x$ and $y$ are 1d arrays but they are being converted into 2d arrays for the purpose of using meshgrid. xv is basically a matrix where one row corresponds to the 1d array x and is h-stacked $N(y)$ number of times.\n",
    "yv on the other hand is a matrix where one column corresponds to the 1d array y and each column is v-stacked $N(x)$ number of times."
   ]
  },
  {
   "cell_type": "code",
   "execution_count": 95,
   "metadata": {},
   "outputs": [],
   "source": [
    "xv , yv = np.meshgrid(x,y)"
   ]
  },
  {
   "cell_type": "code",
   "execution_count": 96,
   "metadata": {},
   "outputs": [
    {
     "data": {
      "text/plain": [
       "array([[0.00000000e+00, 1.00200300e-04, 4.00801202e-04, ...,\n",
       "        9.96000004e+01, 9.97999000e+01, 1.00000000e+02],\n",
       "       [1.00401203e-04, 2.00601504e-04, 5.01202405e-04, ...,\n",
       "        9.96001008e+01, 9.98000004e+01, 1.00000100e+02],\n",
       "       [4.01604813e-04, 5.01805113e-04, 8.02406014e-04, ...,\n",
       "        9.96004020e+01, 9.98003016e+01, 1.00000402e+02],\n",
       "       ...,\n",
       "       [2.48000008e+01, 2.48001010e+01, 2.48004016e+01, ...,\n",
       "        1.24400001e+02, 1.24599901e+02, 1.24800001e+02],\n",
       "       [2.48999000e+01, 2.49000002e+01, 2.49003008e+01, ...,\n",
       "        1.24499900e+02, 1.24699800e+02, 1.24899900e+02],\n",
       "       [2.50000000e+01, 2.50001002e+01, 2.50004008e+01, ...,\n",
       "        1.24600000e+02, 1.24799900e+02, 1.25000000e+02]])"
      ]
     },
     "execution_count": 96,
     "metadata": {},
     "output_type": "execute_result"
    }
   ],
   "source": [
    "zv = xv**2 + yv**2\n",
    "zv"
   ]
  },
  {
   "cell_type": "code",
   "execution_count": 97,
   "metadata": {},
   "outputs": [
    {
     "data": {
      "image/png": "[encoded data removed]",
      "text/plain": [
       "<Figure size 432x288 with 2 Axes>"
      ]
     },
     "metadata": {
      "needs_background": "light"
     },
     "output_type": "display_data"
    }
   ],
   "source": [
    "plt.contourf(xv, yv, zv,levels=30)\n",
    "plt.colorbar()\n",
    "plt.show()"
   ]
  },
  {
   "cell_type": "markdown",
   "metadata": {},
   "source": [
    "## Basic Linear Algebra"
   ]
  },
  {
   "cell_type": "markdown",
   "metadata": {},
   "source": [
    "### Matrix Operations"
   ]
  },
  {
   "cell_type": "code",
   "execution_count": 100,
   "metadata": {},
   "outputs": [],
   "source": [
    "A = np.array([[3,2,1],[5,-9,-8],[4,8,3]])\n",
    "b1 = np.array([1,2,3])\n",
    "b2 = np.array([-1,-2,-5])"
   ]
  },
  {
   "cell_type": "markdown",
   "metadata": {},
   "source": [
    "#### Calculating the dot product"
   ]
  },
  {
   "cell_type": "code",
   "execution_count": 101,
   "metadata": {},
   "outputs": [
    {
     "data": {
      "text/plain": [
       "array([ 10, -37,  29])"
      ]
     },
     "execution_count": 101,
     "metadata": {},
     "output_type": "execute_result"
    }
   ],
   "source": [
    "A@b1"
   ]
  },
  {
   "cell_type": "code",
   "execution_count": 103,
   "metadata": {},
   "outputs": [
    {
     "data": {
      "text/plain": [
       "array([ 10, -37,  29])"
      ]
     },
     "execution_count": 103,
     "metadata": {},
     "output_type": "execute_result"
    }
   ],
   "source": [
    "np.dot(A,b1)"
   ]
  },
  {
   "cell_type": "code",
   "execution_count": 105,
   "metadata": {},
   "outputs": [
    {
     "data": {
      "text/plain": [
       "-20"
      ]
     },
     "execution_count": 105,
     "metadata": {},
     "output_type": "execute_result"
    }
   ],
   "source": [
    "np.dot(b1,b2)"
   ]
  },
  {
   "cell_type": "markdown",
   "metadata": {},
   "source": [
    "#### Cross product"
   ]
  },
  {
   "cell_type": "code",
   "execution_count": 106,
   "metadata": {},
   "outputs": [
    {
     "data": {
      "text/plain": [
       "array([-4,  2,  0])"
      ]
     },
     "execution_count": 106,
     "metadata": {},
     "output_type": "execute_result"
    }
   ],
   "source": [
    "np.cross(b1,b2)"
   ]
  },
  {
   "cell_type": "markdown",
   "metadata": {},
   "source": [
    "#### Transposing the matrix"
   ]
  },
  {
   "cell_type": "code",
   "execution_count": 102,
   "metadata": {},
   "outputs": [
    {
     "data": {
      "text/plain": [
       "array([[ 3,  5,  4],\n",
       "       [ 2, -9,  8],\n",
       "       [ 1, -8,  3]])"
      ]
     },
     "execution_count": 102,
     "metadata": {},
     "output_type": "execute_result"
    }
   ],
   "source": [
    "A.T"
   ]
  },
  {
   "cell_type": "markdown",
   "metadata": {},
   "source": [
    "### Solving a system of equations"
   ]
  },
  {
   "cell_type": "markdown",
   "metadata": {},
   "source": [
    "#### Let us solving the following set of equations using numpy\n",
    "$$ 3x + 2y + z = 4$$\n",
    "$$5x - 5y + 4z = 3$$\n",
    "$$6x+z=0$$"
   ]
  },
  {
   "cell_type": "code",
   "execution_count": 108,
   "metadata": {},
   "outputs": [],
   "source": [
    "A = np.array([[3,2,1],[5,-5,4],[6,0,1]])\n",
    "c = np.array([4,3,0])"
   ]
  },
  {
   "cell_type": "code",
   "execution_count": 109,
   "metadata": {},
   "outputs": [
    {
     "data": {
      "text/plain": [
       "array([-0.49056604,  1.26415094,  2.94339623])"
      ]
     },
     "execution_count": 109,
     "metadata": {},
     "output_type": "execute_result"
    }
   ],
   "source": [
    "np.linalg.solve(A,c)"
   ]
  },
  {
   "cell_type": "markdown",
   "metadata": {},
   "source": [
    "### Finding Eigenvalues"
   ]
  },
  {
   "cell_type": "code",
   "execution_count": 110,
   "metadata": {},
   "outputs": [],
   "source": [
    "A = np.array([[3,2,1],[5,0,4],[9,6,3]])"
   ]
  },
  {
   "cell_type": "code",
   "execution_count": 111,
   "metadata": {},
   "outputs": [
    {
     "data": {
      "text/plain": [
       "(array([ 9.55743852e+00, -6.57460197e-16, -3.55743852e+00]),\n",
       " array([[ 0.27561869,  0.54815097,  0.17451141],\n",
       "        [ 0.49024827, -0.4796321 , -0.83394105],\n",
       "        [ 0.82685607, -0.68518871,  0.52353424]]))"
      ]
     },
     "execution_count": 111,
     "metadata": {},
     "output_type": "execute_result"
    }
   ],
   "source": [
    "np.linalg.eig(A)"
   ]
  },
  {
   "cell_type": "code",
   "execution_count": 112,
   "metadata": {},
   "outputs": [],
   "source": [
    "w,v = np.linalg.eig(A)"
   ]
  },
  {
   "cell_type": "markdown",
   "metadata": {},
   "source": [
    "### Examples"
   ]
  },
  {
   "cell_type": "code",
   "execution_count": 113,
   "metadata": {},
   "outputs": [],
   "source": [
    "#TODO"
   ]
  },
  {
   "cell_type": "markdown",
   "metadata": {},
   "source": [
    "## Einsum"
   ]
  },
  {
   "cell_type": "markdown",
   "metadata": {},
   "source": [
    "Einsum is all you need!\n",
    "One of the best features in Numpy is the einsum. It frequently performs faster and uses less memory than conventional array operations because of its expressiveness and clever loops. The notation can be difficult to learn and can occasionally require a few tries to appropriately apply to a challenging situation.\n",
    "Using the einsum function, we can specify operations on NumPy arrays using the [Einstein summation convention](https://en.wikipedia.org/wiki/Einstein_notation).\n",
    "Let us build two arrays to demonstrate the usage:"
   ]
  },
  {
   "cell_type": "code",
   "execution_count": 114,
   "metadata": {},
   "outputs": [],
   "source": [
    "A = np.array([0,1,2])\n",
    "B = np.array([[ 0,  1,  2,  3],[ 4,  5,  6,  7],[ 8,  9, 10, 11]])"
   ]
  },
  {
   "cell_type": "markdown",
   "metadata": {},
   "source": [
    "Some conventional ways of matrix multiplication are:"
   ]
  },
  {
   "cell_type": "code",
   "execution_count": 125,
   "metadata": {},
   "outputs": [
    {
     "data": {
      "text/plain": [
       "array([20, 23, 26, 29])"
      ]
     },
     "execution_count": 125,
     "metadata": {},
     "output_type": "execute_result"
    }
   ],
   "source": [
    "#returns the matrix product of two arrays\n",
    "(A[:, np.newaxis]*B).sum(axis=0)"
   ]
  },
  {
   "cell_type": "code",
   "execution_count": 127,
   "metadata": {},
   "outputs": [
    {
     "data": {
      "text/plain": [
       "array([20, 23, 26, 29])"
      ]
     },
     "execution_count": 127,
     "metadata": {},
     "output_type": "execute_result"
    }
   ],
   "source": [
    "#returns the matrix product of two arrays\n",
    "np.matmul(A,B)"
   ]
  },
  {
   "cell_type": "code",
   "execution_count": 135,
   "metadata": {},
   "outputs": [
    {
     "data": {
      "text/plain": [
       "array([25, 10])"
      ]
     },
     "execution_count": 135,
     "metadata": {},
     "output_type": "execute_result"
    }
   ],
   "source": [
    "#multiply 1d array with 2d array\n",
    "A = [[5, 0],\n",
    "      [0, 5]]\n",
    "B = [5, 2]\n",
    "np.matmul(A,B)"
   ]
  },
  {
   "cell_type": "code",
   "execution_count": 138,
   "metadata": {},
   "outputs": [
    {
     "data": {
      "text/plain": [
       "array([[[ 2,  3],\n",
       "        [ 6, 11]],\n",
       "\n",
       "       [[10, 19],\n",
       "        [14, 27]]])"
      ]
     },
     "execution_count": 138,
     "metadata": {},
     "output_type": "execute_result"
    }
   ],
   "source": [
    "#multiply higher dimensional arrays\n",
    "A = np.arange(8).reshape(2, 2, 2)\n",
    "B = np.arange(4).reshape(2, 2)\n",
    "np.matmul(A,B)"
   ]
  },
  {
   "cell_type": "code",
   "execution_count": 126,
   "metadata": {},
   "outputs": [
    {
     "data": {
      "text/plain": [
       "array([20, 23, 26, 29])"
      ]
     },
     "execution_count": 126,
     "metadata": {},
     "output_type": "execute_result"
    }
   ],
   "source": [
    "#returns the scalar or dot product of two arrays\n",
    "A@B"
   ]
  },
  {
   "cell_type": "code",
   "execution_count": 128,
   "metadata": {},
   "outputs": [
    {
     "data": {
      "text/plain": [
       "array([20, 23, 26, 29])"
      ]
     },
     "execution_count": 128,
     "metadata": {},
     "output_type": "execute_result"
    }
   ],
   "source": [
    "np.dot(A,B)"
   ]
  },
  {
   "cell_type": "code",
   "execution_count": 131,
   "metadata": {},
   "outputs": [
    {
     "name": "stdout",
     "output_type": "stream",
     "text": [
      "[ 16  34  54  76 100]\n",
      "[ 66  84 104 126 150]\n"
     ]
    }
   ],
   "source": [
    "#returns the element-wise matrix multiplication of two arrays also known as the Hadamard product.\n",
    "#The size of the two matrices should be same\n",
    "A = np.array([[1, 2, 3, 4, 5], [6, 7, 8, 9, 10]])\n",
    "B = np.array([[11, 12, 13, 14, 15], [16, 17, 18, 19, 20]])\n",
    "print(np.multiply(A[ 0,:], B[ 1,: ]))\n",
    "print(np.multiply(A[ 1,:], B[ 0,:]))"
   ]
  },
  {
   "cell_type": "markdown",
   "metadata": {},
   "source": [
    "#### We'll now be using Einsum to compute matrix functions"
   ]
  },
  {
   "cell_type": "markdown",
   "metadata": {},
   "source": [
    "The key is selecting the appropriate labelling for the axes of the input arrays and the output array.\n",
    "The function gives us two options for how to accomplish that: either by using a string of letters or by utilising lists of integers. We'll limit ourselves to the strings for simplicity.\n",
    "Matrix multiplication, which entails multiplying rows by columns and adding the results, is a nice illustration to consider. Matrix multiplication can be performed for two 2D arrays A and B with `np.einsum('ij,jk->ik', A, B)`.\n",
    "This string's meaning is unclear. Consider \"ij,jk->ik\" as being divided in two at the arrow symbol. The input arrays' axes are identified by the labels \"ij\" for A and \"jk\" for B in the left-hand portion. The letters \"ik\" are used to identify the axes of the single output array in the string's right-hand portion. In other words, we wish to create a new 2D array after inserting two 2D arrays.\n",
    "Let use declare two arrays A and B for demonstration purposes."
   ]
  },
  {
   "cell_type": "code",
   "execution_count": 140,
   "metadata": {},
   "outputs": [],
   "source": [
    "A = np.array([[1, 1, 1],\n",
    "              [2, 2, 2],\n",
    "              [5, 5, 5]])\n",
    "\n",
    "B = np.array([[0, 1, 0],\n",
    "              [1, 1, 0],\n",
    "              [1, 1, 1]])"
   ]
  },
  {
   "cell_type": "markdown",
   "metadata": {},
   "source": [
    "1. View A. Np equivalent `A`"
   ]
  },
  {
   "cell_type": "code",
   "execution_count": 144,
   "metadata": {},
   "outputs": [
    {
     "data": {
      "text/plain": [
       "array([[1, 1, 1],\n",
       "       [2, 2, 2],\n",
       "       [5, 5, 5]])"
      ]
     },
     "execution_count": 144,
     "metadata": {},
     "output_type": "execute_result"
    }
   ],
   "source": [
    "np.einsum(\"ij\",A)#since A is 2D we have to mention ij. Had it been 3d, we'll mention ijk"
   ]
  },
  {
   "cell_type": "markdown",
   "metadata": {},
   "source": [
    "2. Sum A. Np equivalent `sum(A)`"
   ]
  },
  {
   "cell_type": "code",
   "execution_count": 149,
   "metadata": {},
   "outputs": [
    {
     "data": {
      "text/plain": [
       "24"
      ]
     },
     "execution_count": 149,
     "metadata": {},
     "output_type": "execute_result"
    }
   ],
   "source": [
    "np.einsum(\"ij->\",A)# sums all the elements in the matrix"
   ]
  },
  {
   "cell_type": "markdown",
   "metadata": {},
   "source": [
    "3. Sum A along axes. Np equivalent sum(A, axis=0) and sum(A, axis=1)"
   ]
  },
  {
   "cell_type": "code",
   "execution_count": 150,
   "metadata": {},
   "outputs": [
    {
     "data": {
      "text/plain": [
       "array([ 3,  6, 15])"
      ]
     },
     "execution_count": 150,
     "metadata": {},
     "output_type": "execute_result"
    }
   ],
   "source": [
    "np.einsum(\"ij->i\",A)# sums all the elements in the matrix horizontally"
   ]
  },
  {
   "cell_type": "code",
   "execution_count": 151,
   "metadata": {},
   "outputs": [
    {
     "data": {
      "text/plain": [
       "array([8, 8, 8])"
      ]
     },
     "execution_count": 151,
     "metadata": {},
     "output_type": "execute_result"
    }
   ],
   "source": [
    "np.einsum(\"ij->j\",A)# sums all the elements in the matrix vertically"
   ]
  },
  {
   "cell_type": "markdown",
   "metadata": {},
   "source": [
    "4. Transpose matrix. Np equivalent `A.T`"
   ]
  },
  {
   "cell_type": "code",
   "execution_count": 152,
   "metadata": {},
   "outputs": [
    {
     "data": {
      "text/plain": [
       "array([[1, 2, 5],\n",
       "       [1, 2, 5],\n",
       "       [1, 2, 5]])"
      ]
     },
     "execution_count": 152,
     "metadata": {},
     "output_type": "execute_result"
    }
   ],
   "source": [
    "np.einsum(\"ji\",A)"
   ]
  },
  {
   "cell_type": "markdown",
   "metadata": {},
   "source": [
    "5. View main diagonal of A. Np equivalent `diag(A)`"
   ]
  },
  {
   "cell_type": "code",
   "execution_count": 154,
   "metadata": {},
   "outputs": [
    {
     "data": {
      "text/plain": [
       "array([0, 1, 1])"
      ]
     },
     "execution_count": 154,
     "metadata": {},
     "output_type": "execute_result"
    }
   ],
   "source": [
    "np.einsum(\"ii->i\",B)"
   ]
  },
  {
   "cell_type": "markdown",
   "metadata": {},
   "source": [
    "6. Sums main diagonal of A. Np equivalent `trace(A)`"
   ]
  },
  {
   "cell_type": "code",
   "execution_count": 155,
   "metadata": {},
   "outputs": [
    {
     "data": {
      "text/plain": [
       "8"
      ]
     },
     "execution_count": 155,
     "metadata": {},
     "output_type": "execute_result"
    }
   ],
   "source": [
    "np.einsum(\"ii\",A)"
   ]
  },
  {
   "cell_type": "markdown",
   "metadata": {},
   "source": [
    "7. Element wise multiplication of A and B or B.T. Np equivalent `A*B` and `A*B.T`"
   ]
  },
  {
   "cell_type": "code",
   "execution_count": 158,
   "metadata": {},
   "outputs": [
    {
     "data": {
      "text/plain": [
       "array([[0, 1, 0],\n",
       "       [2, 2, 0],\n",
       "       [5, 5, 5]])"
      ]
     },
     "execution_count": 158,
     "metadata": {},
     "output_type": "execute_result"
    }
   ],
   "source": [
    "np.einsum(\"ij,ij->ij\", A, B)"
   ]
  },
  {
   "cell_type": "code",
   "execution_count": 159,
   "metadata": {},
   "outputs": [
    {
     "data": {
      "text/plain": [
       "array([[0, 1, 1],\n",
       "       [2, 2, 2],\n",
       "       [0, 0, 5]])"
      ]
     },
     "execution_count": 159,
     "metadata": {},
     "output_type": "execute_result"
    }
   ],
   "source": [
    "np.einsum(\"ij,ji->ij\", A, B)"
   ]
  },
  {
   "cell_type": "markdown",
   "metadata": {},
   "source": [
    "8. Dot product of two matrices. Np equivalent `dot(A,B)`"
   ]
  },
  {
   "cell_type": "code",
   "execution_count": 161,
   "metadata": {},
   "outputs": [
    {
     "data": {
      "text/plain": [
       "array([[ 2,  3,  1],\n",
       "       [ 4,  6,  2],\n",
       "       [10, 15,  5]])"
      ]
     },
     "execution_count": 161,
     "metadata": {},
     "output_type": "execute_result"
    }
   ],
   "source": [
    "np.einsum(\"ij,jk\", A, B)"
   ]
  },
  {
   "cell_type": "markdown",
   "metadata": {},
   "source": [
    "9. Inner product of A,B. Np equivalent `inner(A,B)`"
   ]
  },
  {
   "cell_type": "code",
   "execution_count": 163,
   "metadata": {},
   "outputs": [
    {
     "data": {
      "text/plain": [
       "array([[ 1,  2,  3],\n",
       "       [ 2,  4,  6],\n",
       "       [ 5, 10, 15]])"
      ]
     },
     "execution_count": 163,
     "metadata": {},
     "output_type": "execute_result"
    }
   ],
   "source": [
    "np.einsum(\"ij,kj -> ik\", A, B)"
   ]
  },
  {
   "cell_type": "markdown",
   "metadata": {},
   "source": [
    "10. Each row of A multiplied by B. Np equivalent `A[:, None] * B`"
   ]
  },
  {
   "cell_type": "code",
   "execution_count": 165,
   "metadata": {},
   "outputs": [
    {
     "data": {
      "text/plain": [
       "array([[[0, 1, 1],\n",
       "        [1, 1, 1],\n",
       "        [0, 0, 1]],\n",
       "\n",
       "       [[0, 2, 2],\n",
       "        [2, 2, 2],\n",
       "        [0, 0, 2]],\n",
       "\n",
       "       [[0, 5, 5],\n",
       "        [5, 5, 5],\n",
       "        [0, 0, 5]]])"
      ]
     },
     "execution_count": 165,
     "metadata": {},
     "output_type": "execute_result"
    }
   ],
   "source": [
    "np.einsum(\"ij,kj -> ijk\", A, B)"
   ]
  },
  {
   "cell_type": "markdown",
   "metadata": {},
   "source": [
    "11. Each value of A multiplied by B. Np equivalent `A[:, :, None, None] * B`"
   ]
  },
  {
   "cell_type": "code",
   "execution_count": 166,
   "metadata": {},
   "outputs": [
    {
     "data": {
      "text/plain": [
       "array([[[[0, 1, 0],\n",
       "         [1, 1, 0],\n",
       "         [1, 1, 1]],\n",
       "\n",
       "        [[0, 1, 0],\n",
       "         [1, 1, 0],\n",
       "         [1, 1, 1]],\n",
       "\n",
       "        [[0, 1, 0],\n",
       "         [1, 1, 0],\n",
       "         [1, 1, 1]]],\n",
       "\n",
       "\n",
       "       [[[0, 2, 0],\n",
       "         [2, 2, 0],\n",
       "         [2, 2, 2]],\n",
       "\n",
       "        [[0, 2, 0],\n",
       "         [2, 2, 0],\n",
       "         [2, 2, 2]],\n",
       "\n",
       "        [[0, 2, 0],\n",
       "         [2, 2, 0],\n",
       "         [2, 2, 2]]],\n",
       "\n",
       "\n",
       "       [[[0, 5, 0],\n",
       "         [5, 5, 0],\n",
       "         [5, 5, 5]],\n",
       "\n",
       "        [[0, 5, 0],\n",
       "         [5, 5, 0],\n",
       "         [5, 5, 5]],\n",
       "\n",
       "        [[0, 5, 0],\n",
       "         [5, 5, 0],\n",
       "         [5, 5, 5]]]])"
      ]
     },
     "execution_count": 166,
     "metadata": {},
     "output_type": "execute_result"
    }
   ],
   "source": [
    "np.einsum(\"ij,kl -> ijkl\", A, B)"
   ]
  },
  {
   "cell_type": "markdown",
   "metadata": {},
   "source": [
    "Keep in mind that einsum supports the ellipses syntax '...' when working with bigger numbers of dimensions. With this, we can easily mark the axes that aren't of special interest to us. For instance, the function `np.einsum('...ij,ji->...', a, b)` would just multiply the last two axes of a with the 2D array b."
   ]
  },
  {
   "cell_type": "markdown",
   "metadata": {},
   "source": [
    "To develop a deeper working knowledge, please refer to this [amazing blog post](https://obilaniu6266h16.wordpress.com/2016/02/04/einstein-summation-in-numpy/)"
   ]
  },
  {
   "cell_type": "code",
   "execution_count": null,
   "metadata": {},
   "outputs": [],
   "source": []
  }
 ],
 "metadata": {
  "kernelspec": {
   "display_name": "Python 3",
   "language": "python",
   "name": "python3"
  },
  "language_info": {
   "codemirror_mode": {
    "name": "ipython",
    "version": 3
   },
   "file_extension": ".py",
   "mimetype": "text/x-python",
   "name": "python",
   "nbconvert_exporter": "python",
   "pygments_lexer": "ipython3",
   "version": "3.9.1"
  }
 },
 "nbformat": 4,
 "nbformat_minor": 4
}
