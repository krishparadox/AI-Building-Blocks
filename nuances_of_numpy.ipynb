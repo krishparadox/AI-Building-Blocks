{
 "cells": [
  {
   "cell_type": "markdown",
   "metadata": {},
   "source": [
    "# Numpy"
   ]
  },
  {
   "cell_type": "code",
   "execution_count": 194,
   "metadata": {},
   "outputs": [],
   "source": [
    "%matplotlib inline\n",
    "import numpy as np\n",
    "import matplotlib.pyplot as plt"
   ]
  },
  {
   "cell_type": "markdown",
   "metadata": {},
   "source": [
    "## Creating np arrays"
   ]
  },
  {
   "cell_type": "code",
   "execution_count": 149,
   "metadata": {},
   "outputs": [],
   "source": [
    "#arrays from lists with values\n",
    "a1_0 = np.array([1,2,3,4])\n",
    "a1_1 = np.array([[1,2,3],[2,3,4]])\n",
    "\n",
    "#array of zeroes\n",
    "a2 = np.zeros(4)\n",
    "\n",
    "#array of ones using default datatypes\n",
    "a3_0 = np.ones(4, dtype=np.int64) \n",
    "a3_1 = np.ones(4, dtype=np.float64)\n",
    "\n",
    "#32bit datatypes \n",
    "a3_2 = np.ones(4, dtype=np.float32)\n",
    "a3_3 = np.ones(4, dtype=np.int32)\n",
    "\n",
    "#arrays with random values\n",
    "a4 = np.random.rand(10)\n",
    "\n",
    "#arrays with normalised values having mean=0 and SD=1\n",
    "a5 = np.random.randn(10)\n",
    "\n",
    "#using linspace(x,y,z) where x is the starting point, y is the ending point, and z is the number values in the array. \n",
    "#So number of partitions = z-1\n",
    "a6 = np.linspace(1,10,11)\n",
    "#output: array([ 1. ,  1.9,  2.8,  3.7,  4.6,  5.5,  6.4,  7.3,  8.2,  9.1, 10. ])\n",
    "\n",
    "#using np.arange(x,y,z) where x is the starting point, y is the ending point but exclusive(not in the output) and z is the common difference\n",
    "#np.arange(x) will return an array from 0 to x-1 with a common difference of 1\n",
    "a7 = np.arange(2,12,2)\n",
    "#output: array([ 2,  4,  6,  8, 10])\n",
    "\n",
    "#test array for upcoming experiments\n",
    "x1 = np.arange(0, 10, 0.2)"
   ]
  },
  {
   "cell_type": "markdown",
   "metadata": {},
   "source": [
    "## Array Operations"
   ]
  },
  {
   "cell_type": "code",
   "execution_count": 107,
   "metadata": {},
   "outputs": [],
   "source": [
    "#scalar multiplication of all array elements\n",
    "a7_m = a7*2\n",
    "#output: array([ 4, 10, 16, 22])"
   ]
  },
  {
   "cell_type": "code",
   "execution_count": 113,
   "metadata": {},
   "outputs": [],
   "source": [
    "#creating boolean mask array\n",
    "a7_mask = 2*a7>11\n",
    "#output: array([False, False,  True,  True])"
   ]
  },
  {
   "cell_type": "code",
   "execution_count": 118,
   "metadata": {},
   "outputs": [],
   "source": [
    "#inverse array elements\n",
    "a7_inverse = 1/a7 + a7\n",
    "#output: array([ 2.5       ,  5.2       ,  8.125     , 11.09090909])"
   ]
  },
  {
   "cell_type": "code",
   "execution_count": 141,
   "metadata": {},
   "outputs": [
    {
     "data": {
      "image/png": "[encoded data removed]",
      "text/plain": [
       "<Figure size 432x288 with 1 Axes>"
      ]
     },
     "metadata": {
      "needs_background": "light"
     },
     "output_type": "display_data"
    }
   ],
   "source": [
    "#line plot of functions\n",
    "plt.plot(x1, x1**3)\n",
    "plt.show()"
   ]
  },
  {
   "cell_type": "code",
   "execution_count": 152,
   "metadata": {},
   "outputs": [
    {
     "data": {
      "text/plain": [
       "(array([1., 0., 1., 1., 0., 1., 1., 2., 0., 3.]),\n",
       " array([-2.3735126 , -1.91250878, -1.45150497, -0.99050115, -0.52949734,\n",
       "        -0.06849352,  0.39251029,  0.8535141 ,  1.31451792,  1.77552173,\n",
       "         2.23652555]),\n",
       " <BarContainer object of 10 artists>)"
      ]
     },
     "execution_count": 152,
     "metadata": {},
     "output_type": "execute_result"
    },
    {
     "data": {
      "image/png": "[encoded data removed]",
      "text/plain": [
       "<Figure size 432x288 with 1 Axes>"
      ]
     },
     "metadata": {
      "needs_background": "light"
     },
     "output_type": "display_data"
    }
   ],
   "source": [
    "#histogram plot\n",
    "plt.hist(a5)"
   ]
  },
  {
   "cell_type": "code",
   "execution_count": 155,
   "metadata": {},
   "outputs": [
    {
     "data": {
      "text/plain": [
       "[<matplotlib.lines.Line2D at 0x7fe187791730>]"
      ]
     },
     "execution_count": 155,
     "metadata": {},
     "output_type": "execute_result"
    },
    {
     "data": {
      "image/png": "[encoded data removed]",
      "text/plain": [
       "<Figure size 432x288 with 1 Axes>"
      ]
     },
     "metadata": {
      "needs_background": "light"
     },
     "output_type": "display_data"
    }
   ],
   "source": [
    "#define a function and plot\n",
    "def f(x):\n",
    "    return x**2 + np.sin(x)/np.exp(-x)\n",
    "plt.plot(x1, f(x1))"
   ]
  },
  {
   "cell_type": "markdown",
   "metadata": {},
   "source": [
    "**For all mathematical functions provided by numpy please refer to** https://numpy.org/doc/stable/reference/routines.math.html"
   ]
  },
  {
   "cell_type": "markdown",
   "metadata": {},
   "source": [
    "## Array indexing and slicing"
   ]
  },
  {
   "cell_type": "code",
   "execution_count": 156,
   "metadata": {},
   "outputs": [],
   "source": [
    "#Let's create a sample array for demonstration purposes\n",
    "x1 = np.array([2,4,6,8,10,12])"
   ]
  },
  {
   "cell_type": "code",
   "execution_count": 157,
   "metadata": {},
   "outputs": [
    {
     "data": {
      "text/plain": [
       "6"
      ]
     },
     "execution_count": 157,
     "metadata": {},
     "output_type": "execute_result"
    }
   ],
   "source": [
    "#single value indexing\n",
    "x1[2] #select the second element\n",
    "#output: 6"
   ]
  },
  {
   "cell_type": "code",
   "execution_count": 158,
   "metadata": {},
   "outputs": [
    {
     "data": {
      "text/plain": [
       "array([ 6,  8, 10, 12])"
      ]
     },
     "execution_count": 158,
     "metadata": {},
     "output_type": "execute_result"
    }
   ],
   "source": [
    "#row slicing in arrays by providing a range\n",
    "x1[2:] #select all the elements starting from the 3rd element(3rd because indexing starts from 0)\n",
    "#output: array([ 6,  8, 10, 12])"
   ]
  },
  {
   "cell_type": "code",
   "execution_count": 160,
   "metadata": {},
   "outputs": [
    {
     "data": {
      "text/plain": [
       "array([2, 4, 6, 8])"
      ]
     },
     "execution_count": 160,
     "metadata": {},
     "output_type": "execute_result"
    }
   ],
   "source": [
    "#row slicing from array ending\n",
    "x1[:-2] #select all elements from the beginning till the second last element excluding the second last element\n",
    "#output: array([2, 4, 6, 8])"
   ]
  },
  {
   "cell_type": "code",
   "execution_count": 162,
   "metadata": {},
   "outputs": [
    {
     "data": {
      "text/plain": [
       "array([ 2,  6, 10])"
      ]
     },
     "execution_count": 162,
     "metadata": {},
     "output_type": "execute_result"
    }
   ],
   "source": [
    "#select elements with a jump\n",
    "x1[::2] #select elements in the np.array starting from the first element with a jump of 2\n",
    "#output: array([ 2,  6, 10])"
   ]
  },
  {
   "cell_type": "code",
   "execution_count": 170,
   "metadata": {},
   "outputs": [],
   "source": [
    "#create the boolean mask of an array and select elements using boolean masking\n",
    "mask = (x1>4)\n",
    "#output: array([False, False,  True,  True,  True,  True])"
   ]
  },
  {
   "cell_type": "code",
   "execution_count": 172,
   "metadata": {},
   "outputs": [
    {
     "data": {
      "text/plain": [
       "array([ 6,  8, 10, 12])"
      ]
     },
     "execution_count": 172,
     "metadata": {},
     "output_type": "execute_result"
    }
   ],
   "source": [
    "x1[mask] #select every element in x1 corresponding to true in the mask\n",
    "#output: array([ 6,  8, 10, 12])"
   ]
  },
  {
   "cell_type": "code",
   "execution_count": 176,
   "metadata": {},
   "outputs": [
    {
     "data": {
      "text/plain": [
       "array([0.8, 1.6, 2.4, 3.2, 4. , 4.8])"
      ]
     },
     "execution_count": 176,
     "metadata": {},
     "output_type": "execute_result"
    }
   ],
   "source": [
    "# always use vectorization in numpy instead of for loops. This increase the speed of computation exponentially\n",
    "np.vectorize(lambda x: x*2/5)(x1)\n",
    "#output: array([0.8, 1.6, 2.4, 3.2, 4. , 4.8])"
   ]
  },
  {
   "cell_type": "code",
   "execution_count": 180,
   "metadata": {},
   "outputs": [
    {
     "data": {
      "text/plain": [
       "array(['Aarav', 'Anish', 'Ankit'], dtype='<U7')"
      ]
     },
     "execution_count": 180,
     "metadata": {},
     "output_type": "execute_result"
    }
   ],
   "source": [
    "#Let us look at an application of vectorization in a more concrete use-case\n",
    "#The aim is to filter all the elements in the array with start with 'A'. \n",
    "#It can be done without numpy using loops but we'll use numpy to speed up the process\n",
    "names = np.array([\"Aarav\", \"Anish\", \"Jayesh\", \"Ankit\", \"Deep\", \"Zain\", \"Mandeep\", \"Shubham\"])\n",
    "first_letter_a = np.vectorize(lambda x: x[0])(names) == \"A\"\n",
    "#first_letter_a: array([ True,  True, False,  True, False, False, False, False]) is a boolean mask\n",
    "names[first_letter_a]\n",
    "#output: array(['Aarav', 'Anish', 'Ankit'], dtype='<U7')"
   ]
  },
  {
   "cell_type": "markdown",
   "metadata": {},
   "source": [
    "## Statistical Functions"
   ]
  },
  {
   "cell_type": "code",
   "execution_count": 182,
   "metadata": {},
   "outputs": [],
   "source": [
    "#let's create a test dataset for our upcoming implementations\n",
    "x1 = 2*np.random.randn(1000) +10"
   ]
  },
  {
   "cell_type": "code",
   "execution_count": 183,
   "metadata": {},
   "outputs": [
    {
     "data": {
      "text/plain": [
       "10.04354623316505"
      ]
     },
     "execution_count": 183,
     "metadata": {},
     "output_type": "execute_result"
    }
   ],
   "source": [
    "#find the mean of the array\n",
    "np.mean(x1)\n",
    "#output: 10.04354623316505"
   ]
  },
  {
   "cell_type": "code",
   "execution_count": 185,
   "metadata": {},
   "outputs": [
    {
     "data": {
      "text/plain": [
       "2.028621423144305"
      ]
     },
     "execution_count": 185,
     "metadata": {},
     "output_type": "execute_result"
    }
   ],
   "source": [
    "#find the standard deviation of the array\n",
    "np.std(x1)\n",
    "#output: 2.028621423144305"
   ]
  },
  {
   "cell_type": "code",
   "execution_count": 187,
   "metadata": {},
   "outputs": [],
   "source": [
    "#find the percentile\n",
    "ans = np.percentile(x1, 80) #this means ans is greater than 80% of the elements in x1\n",
    "#output: 11.72972492791864"
   ]
  },
  {
   "cell_type": "markdown",
   "metadata": {},
   "source": [
    "## Calculus Functions"
   ]
  },
  {
   "cell_type": "code",
   "execution_count": 189,
   "metadata": {},
   "outputs": [
    {
     "data": {
      "text/plain": [
       "array([0.07649736, 0.1442579 , 0.20448433, 0.25813208, 0.30597568,\n",
       "       0.34865441, 0.38670447, 0.42058214, 0.45068077, 0.47734356,\n",
       "       0.50087314, 0.52153899, 0.53958321, 0.55522502, 0.56866433,\n",
       "       0.58008456, 0.58965497, 0.59753247, 0.60386313, 0.6087834 ,\n",
       "       0.61242109, 0.61489623, 0.61632168, 0.61680376, 0.61644265,\n",
       "       0.61533281, 0.6135633 , 0.61121804, 0.60837603, 0.60511157,\n",
       "       0.60149442, 0.59758994, 0.59345921, 0.5891592 , 0.58474281,\n",
       "       0.58025901, 0.57575297, 0.57126608, 0.56683611, 0.56249727,\n",
       "       0.55828035, 0.55421275, 0.55031866, 0.54661911, 0.54313211,\n",
       "       0.53987276, 0.53685334, 0.53408347, 0.53157023, 0.52931824,\n",
       "       0.52732988, 0.52560532, 0.52414276, 0.52293849, 0.52198708,\n",
       "       0.52128148, 0.52081322, 0.52057249, 0.52054833, 0.52072874,\n",
       "       0.52110084, 0.52165099, 0.52236495, 0.52322799, 0.524225  ,\n",
       "       0.52534068, 0.52655958, 0.52786626, 0.52924541, 0.5306819 ,\n",
       "       0.53216092, 0.53366807, 0.53518942, 0.53671161, 0.5382219 ,\n",
       "       0.53970824, 0.54115933, 0.54256466, 0.54391458, 0.54520028,\n",
       "       0.54641385, 0.54754831, 0.54859759, 0.54955655, 0.55042099,\n",
       "       0.55118763, 0.5518541 , 0.55241892, 0.55288145, 0.55324192,\n",
       "       0.55350134, 0.55366148, 0.55372484, 0.55369457, 0.55357446,\n",
       "       0.55336886, 0.55308264, 0.55272113, 0.55229005, 0.55179549])"
      ]
     },
     "execution_count": 189,
     "metadata": {},
     "output_type": "execute_result"
    }
   ],
   "source": [
    "x1 = np.linspace(1,10,100)\n",
    "#function to consider\n",
    "y1 = 1/x1**2 *np.sin(x1)\n",
    "#numerical gradient\n",
    "dydx = np.gradient(y1,x1)\n",
    "#numerical integral\n",
    "y_integral = np.cumsum(y1) * (x1[1]-x1[0])"
   ]
  },
  {
   "cell_type": "code",
   "execution_count": 190,
   "metadata": {},
   "outputs": [
    {
     "data": {
      "text/plain": [
       "[<matplotlib.lines.Line2D at 0x7fe188bd9cd0>]"
      ]
     },
     "execution_count": 190,
     "metadata": {},
     "output_type": "execute_result"
    },
    {
     "data": {
      "image/png": "[encoded data removed]",
      "text/plain": [
       "<Figure size 432x288 with 1 Axes>"
      ]
     },
     "metadata": {
      "needs_background": "light"
     },
     "output_type": "display_data"
    }
   ],
   "source": [
    "plt.plot(x1,y1)\n",
    "plt.plot(x1, dydx)\n",
    "plt.plot(x1, y_integral)"
   ]
  },
  {
   "cell_type": "markdown",
   "metadata": {},
   "source": [
    "### Let us consider some examples to develop a deeper understanding of what we learnt"
   ]
  },
  {
   "cell_type": "markdown",
   "metadata": {},
   "source": [
    "1. Let $y = e^{-\\frac{x}{10}}sin(x)$. Consider $10000 x$ intervals in the range $[0,10]$"
   ]
  },
  {
   "cell_type": "markdown",
   "metadata": {},
   "source": [
    "a. Plot the function $(y,x)$ in the range$[0,10]$"
   ]
  },
  {
   "cell_type": "code",
   "execution_count": 193,
   "metadata": {},
   "outputs": [
    {
     "data": {
      "text/plain": [
       "[<matplotlib.lines.Line2D at 0x7fe188cec100>]"
      ]
     },
     "execution_count": 193,
     "metadata": {},
     "output_type": "execute_result"
    },
    {
     "data": {
      "image/png": "[encoded data removed]",
      "text/plain": [
       "<Figure size 432x288 with 1 Axes>"
      ]
     },
     "metadata": {
      "needs_background": "light"
     },
     "output_type": "display_data"
    }
   ],
   "source": [
    "#Since the number of intervals is 10000, the number of elements in the array has to be 10000+1 to generate 10000 intervals\n",
    "N=10000\n",
    "x = np.linspace(0,10,N+1)\n",
    "def f(x):\n",
    "    return np.exp(-x/10)*np.sin(x)\n",
    "y = f(x)\n",
    "plt.plot(x,y)"
   ]
  },
  {
   "cell_type": "markdown",
   "metadata": {},
   "source": [
    "b. Compute the mean and std deviation of $y$ for $x$ values in the range $[4,7]$"
   ]
  },
  {
   "cell_type": "code",
   "execution_count": 200,
   "metadata": {},
   "outputs": [
    {
     "data": {
      "text/plain": [
       "0.31448753875085117"
      ]
     },
     "execution_count": 200,
     "metadata": {},
     "output_type": "execute_result"
    }
   ],
   "source": [
    "#We need to create a mask using the x array and boolean mask the y array\n",
    "mask = (x>=4)*(x<=7)\n",
    "np.mean(y[mask])\n",
    "#output: -0.2956023068963138\n",
    "np.std(y[mask])\n",
    "#output: 0.31448753875085117"
   ]
  },
  {
   "cell_type": "markdown",
   "metadata": {},
   "source": [
    "c. For $x$ in the range $[4,7]$, find the value $y_m$ such that 80% of $y$ values are less than $y_m$\n"
   ]
  },
  {
   "cell_type": "code",
   "execution_count": 201,
   "metadata": {},
   "outputs": [
    {
     "data": {
      "text/plain": [
       "0.06145551274590662"
      ]
     },
     "execution_count": 201,
     "metadata": {},
     "output_type": "execute_result"
    }
   ],
   "source": [
    "#this fits exactly the definition of percentile\n",
    "np.percentile(y[mask],80)\n",
    "#output: 0.06145551274590662"
   ]
  },
  {
   "cell_type": "markdown",
   "metadata": {},
   "source": [
    "d. Plot $\\frac{dy}{dx}$ vs $x$"
   ]
  },
  {
   "cell_type": "code",
   "execution_count": 204,
   "metadata": {},
   "outputs": [
    {
     "data": {
      "text/plain": [
       "[<matplotlib.lines.Line2D at 0x7fe189037220>]"
      ]
     },
     "execution_count": 204,
     "metadata": {},
     "output_type": "execute_result"
    },
    {
     "data": {
      "image/png": "[encoded data removed]",
      "text/plain": [
       "<Figure size 432x288 with 1 Axes>"
      ]
     },
     "metadata": {
      "needs_background": "light"
     },
     "output_type": "display_data"
    }
   ],
   "source": [
    "plt.plot(x,np.gradient(y,x))"
   ]
  },
  {
   "cell_type": "markdown",
   "metadata": {},
   "source": [
    "e. Find the locations where $dy/dx=0$"
   ]
  },
  {
   "cell_type": "code",
   "execution_count": 205,
   "metadata": {},
   "outputs": [
    {
     "data": {
      "text/plain": [
       "array([1.472, 4.613, 7.755])"
      ]
     },
     "execution_count": 205,
     "metadata": {},
     "output_type": "execute_result"
    }
   ],
   "source": [
    "#When dy/dx = 0 there is a change in sign. Hence the product of the two consecutive x's will be negative\n",
    "x[1:][dydx[1:]*dydx[:-1]<0]\n",
    "#output: array([1.472, 4.613, 7.755])"
   ]
  },
  {
   "cell_type": "markdown",
   "metadata": {},
   "source": [
    "2. Sum together every number from 0 to 10000 except for those than can be divided by 4 or 7."
   ]
  },
  {
   "cell_type": "code",
   "execution_count": 207,
   "metadata": {},
   "outputs": [
    {
     "data": {
      "text/plain": [
       "32147142"
      ]
     },
     "execution_count": 207,
     "metadata": {},
     "output_type": "execute_result"
    }
   ],
   "source": [
    "x = np.arange(0,10001,1)\n",
    "x[(x%4!=0)*(x%7!=0)].sum()\n",
    "#output: 32147142"
   ]
  },
  {
   "cell_type": "markdown",
   "metadata": {},
   "source": [
    "3. Consider the flower petal equation $ r(\\theta) = 1 + \\frac{3}{4}sin(3\\theta) $ for $0\\leq\\theta\\leq2\\pi$"
   ]
  },
  {
   "cell_type": "markdown",
   "metadata": {},
   "source": [
    "a. Make a plot of the flower"
   ]
  },
  {
   "cell_type": "code",
   "execution_count": 237,
   "metadata": {},
   "outputs": [
    {
     "data": {
      "text/plain": [
       "[<matplotlib.lines.Line2D at 0x7fe18bc52ac0>]"
      ]
     },
     "execution_count": 237,
     "metadata": {},
     "output_type": "execute_result"
    },
    {
     "data": {
      "image/png": "[encoded data removed]",
      "text/plain": [
       "<Figure size 432x288 with 1 Axes>"
      ]
     },
     "metadata": {
      "needs_background": "light"
     },
     "output_type": "display_data"
    }
   ],
   "source": [
    "#The equation is in polar coordinate system. We have to convert them to their corresponding cartesian coordinates \n",
    "theta = np.linspace(0,2*np.pi, 10000)\n",
    "r = 1 + (3/4)*np.sin(3*theta)\n",
    "x = r*np.cos(theta)\n",
    "y = r*np.sin(theta)\n",
    "plt.plot(x,y)\n",
    "#fun fact: In any equation 1 + (a/b)*np.sin(n*theta), n will be the number of petals. \n",
    "#If a/b>1, another flower will start forming from the center point. The petals are disjoint when a/b=1"
   ]
  },
  {
   "cell_type": "code",
   "execution_count": null,
   "metadata": {},
   "outputs": [],
   "source": []
  }
 ],
 "metadata": {
  "kernelspec": {
   "display_name": "Python 3",
   "language": "python",
   "name": "python3"
  },
  "language_info": {
   "codemirror_mode": {
    "name": "ipython",
    "version": 3
   },
   "file_extension": ".py",
   "mimetype": "text/x-python",
   "name": "python",
   "nbconvert_exporter": "python",
   "pygments_lexer": "ipython3",
   "version": "3.9.1"
  }
 },
 "nbformat": 4,
 "nbformat_minor": 4
}
